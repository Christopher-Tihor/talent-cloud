{
 "cells": [
  {
   "cell_type": "code",
   "execution_count": 1,
   "id": "5040e5c6-14ca-4bdf-b54a-e048f9dd53f1",
   "metadata": {},
   "outputs": [],
   "source": [
    "import fs from 'fs'\n",
    "import xlsx from 'node-xlsx';\n",
    "import { format } from 'date-fns';"
   ]
  },
  {
   "cell_type": "code",
   "execution_count": 3,
   "id": "fc53e6f4-2325-48af-82ad-377e030af19e",
   "metadata": {},
   "outputs": [],
   "source": [
    "enum UnionMembership {\n",
    "  BCGEU = 'BCGEU',\n",
    "  EXCLUDED = 'EXCLUDED',\n",
    "  BCNU = 'BCNU',\n",
    "  PEA = 'PEA',\n",
    "}"
   ]
  },
  {
   "cell_type": "code",
   "execution_count": 58,
   "id": "656105ee-84ce-42f0-bf83-07d367bb45bb",
   "metadata": {},
   "outputs": [],
   "source": [
    "interface Personnel {\n",
    "    firstName: string;\n",
    "    lastName: string;\n",
    "    region: string;\n",
    "    workLocation: string;\n",
    "    ministry: string;\n",
    "    primaryPhone: string;\n",
    "    secondaryPhone: string;\n",
    "    otherPhone: string;\n",
    "    email: string;\n",
    "    applicationDate: string;\n",
    "    skillsAbilities: string;\n",
    "    logisticsNotes: string;\n",
    "    supervisor: string;\n",
    "    active: boolean;\n",
    "    unionMembership: UnionMembership;\n",
    "    remoteOnly: boolean;\n",
    "    willingToTravel: boolean;\n",
    "    experiences: { function: number, level: string }[];\n",
    "}"
   ]
  },
  {
   "cell_type": "code",
   "execution_count": 5,
   "id": "d013589a-c345-4ef5-a90d-9d4b780cfc8b",
   "metadata": {
    "scrolled": true
   },
   "outputs": [],
   "source": [
    "const numHeaderRows = 4;\n",
    "const numEndRows = 19;\n",
    "\n",
    "const worksheet = xlsx.parse(fs.readFileSync(`teamsmembers.xlsx`));\n",
    "const worksheetArrays = worksheet.find(page => page.name === 'Active TEAMS Members')?.data || [];\n",
    "const members = worksheetArrays.slice(numHeaderRows, worksheetArrays.length-numEndRows);"
   ]
  },
  {
   "cell_type": "code",
   "execution_count": 6,
   "id": "d73286f4-b568-452b-b079-2b4b933f18e1",
   "metadata": {},
   "outputs": [],
   "source": [
    "const getApplicationDate = (date: number | string | undefined): string => {\n",
    " if (date === '<2018') {\n",
    "    return format(new Date('2018-01-01'), 'P');\n",
    " } else if (!date) {\n",
    "    return format(new Date('2024-01-01'), 'P');\n",
    " } else if (typeof date === 'number') {\n",
    "    return format(new Date(1900, 0, date-1), 'P');\n",
    " } else {\n",
    "    return format(new Date('2024-01-01'), 'P');\n",
    " }\n",
    "}"
   ]
  },
  {
   "cell_type": "code",
   "execution_count": 8,
   "id": "25794989-d588-431b-b920-8024e494d1e1",
   "metadata": {},
   "outputs": [],
   "source": [
    "const getUnionMembership = (notesValue: string): UnionMembership => {\n",
    "    if (notesValue?.includes('BCGEU')) {\n",
    "        return UnionMembership.BCGEU;\n",
    "    } else {\n",
    "        return UnionMembership.EXCLUDED;\n",
    "    }\n",
    "}"
   ]
  },
  {
   "cell_type": "code",
   "execution_count": 65,
   "id": "76c127b3-01e6-455b-9556-3fd12e1398e3",
   "metadata": {},
   "outputs": [],
   "source": [
    "// We only need this if the excel spreadsheet order of functions IS NOT the same as on the database\n",
    "// OR if the db ids of the functions are not auto increment integers starting from 1\n",
    "const getFunction = (i: number): string => {\n",
    "    switch (i) {\n",
    "        case 0: return 'Ops';\n",
    "        case 1: return 'ESS';\n",
    "        case 2: return 'FN';\n",
    "        case 3: return 'Fin';\n",
    "        case 4: return 'Liaison';\n",
    "        case 5: return 'Logs';\n",
    "        case 6: return 'Plans';\n",
    "        case 7: return 'APU';\n",
    "        case 8: return 'Recovery';\n",
    "        case 9: return 'DDir';\n",
    "        case 10: return 'GIS';\n",
    "        default: return '';\n",
    "    }\n",
    "}\n",
    "\n",
    "const getExperienceLevel = (e: string): string => {\n",
    "    switch (e) {\n",
    "        case 'I': return 'INTERESTED';\n",
    "        case 'X': return 'EXPERIENCED';\n",
    "        case 'C': return 'CHIEF_EXPERIENCED';\n",
    "        case 'O': return 'OUTSIDE_EXPERIENCED';\n",
    "        default: return '';\n",
    "    }\n",
    "}"
   ]
  },
  {
   "cell_type": "code",
   "execution_count": 83,
   "id": "51eea478-dc0b-4163-aae1-209a399bceeb",
   "metadata": {},
   "outputs": [],
   "source": [
    "const getExperiences = (rawExperiences: (string | undefined)[]) => {\n",
    "    const experiences = [];\n",
    "    for (let i = 0; i < rawExperiences.length; i++) {\n",
    "        if (!!rawExperiences[i] && ['C','X','I','O'].includes(rawExperiences[i])) {\n",
    "            // experiences.push({ function: getFunction(i), level: rawExperiences[i] });\n",
    "            experiences.push({ function: i+1, level: getExperienceLevel(rawExperiences[i]) });\n",
    "        }\n",
    "    }\n",
    "    return experiences;\n",
    "}"
   ]
  },
  {
   "cell_type": "code",
   "execution_count": 84,
   "id": "26240db6-7faa-401c-b752-ff41a921ecef",
   "metadata": {
    "scrolled": true
   },
   "outputs": [],
   "source": [
    "\n",
    "const personnel: Personnel[] = members.map(member => {\n",
    "    return {\n",
    "        firstName: member[0].split(', ')[1],\n",
    "        lastName: member[0].split(', ')[0],\n",
    "        region: member[1],\n",
    "        workLocation: member[2],\n",
    "        ministry: member[3],\n",
    "        primaryPhone: member[4],\n",
    "        secondaryPhone: member[5],\n",
    "        otherPhone: member[6],\n",
    "        email: member[7],\n",
    "        applicationDate: getApplicationDate(member[8]),\n",
    "        skillsAbilities: member[32],\n",
    "        logisticsNotes: member[34],\n",
    "        supervisor: member[33],\n",
    "        unionMembership: getUnionMembership(member[34]), // Need function\n",
    "        active: true,\n",
    "        remoteOnly: false,\n",
    "        willingToTravel: false,\n",
    "        experiences: getExperiences(member.slice(11, 20)),\n",
    "    };\n",
    "});"
   ]
  },
  {
   "cell_type": "code",
   "execution_count": 93,
   "id": "fbdfe3ee-6918-4f60-9416-4229f65a95d8",
   "metadata": {},
   "outputs": [
    {
     "name": "stdout",
     "output_type": "stream",
     "text": [
      "deleted file\n"
     ]
    }
   ],
   "source": [
    "const sqlPath = 'import-personnel.sql';\n",
    "await fs.truncate(sqlPath, () => { console.log('deleted file') });"
   ]
  },
  {
   "cell_type": "code",
   "execution_count": 94,
   "id": "2e2ee921-243c-4840-b9c2-1838db7b9ea4",
   "metadata": {},
   "outputs": [],
   "source": [
    "for (const p of personnel) {\n",
    "    await fs.appendFileSync(sqlPath, `\\nINSERT INTO personnel (\"first_name\", \"last_name\", \"work_location\", \"region\", \"ministry\", \"primary_phone\", \"secondary_phone\", \"other_phone\", \"email\", \"application_date\", \"supervisor\", \"skills_abilities\", \"logisticsNotes\", \"active\", \"unionMembership\", \"remote_only\", \"willing_to_travel\")\n",
    "    VALUES\n",
    "    ('${p.firstName}', '${p.lastName}', '${p.workLocation}', '${p.region}', '${p.ministry}', ${p.primaryPhone || null}, ${p.secondaryPhone || null}, ${p.otherPhone || null}, '${p.email}', '${p.applicationDate}', '${p.supervisor}', '${p.skillsAbilities}', '${p.logisticsNotes}', true, '${p.unionMembership}', ${p.remoteOnly}, ${p.willingToTravel});\n",
    "    `);\n",
    "}"
   ]
  },
  {
   "cell_type": "code",
   "execution_count": 95,
   "id": "4c381567-7a21-42d2-9b1e-1e860c723d99",
   "metadata": {},
   "outputs": [],
   "source": [
    "for (const p of personnel) {\n",
    "    if (p.experiences.length > 0) {\n",
    "        for (const [i, e] of p.experiences.entries()) {\n",
    "            await fs.appendFileSync(sqlPath, `\\nINSERT INTO personnel_function_experience (\"personnel_id\", \"function_id\", \"experience_type\") SELECT id, ${e.function} as function_id, '${e.level}' as experience_type FROM personnel WHERE email = '${p.email}';`);\n",
    "        }\n",
    "    }\n",
    "}"
   ]
  }
 ],
 "metadata": {
  "kernelspec": {
   "display_name": "TypeScript",
   "language": "typescript",
   "name": "tslab"
  },
  "language_info": {
   "codemirror_mode": {
    "mode": "typescript",
    "name": "javascript",
    "typescript": true
   },
   "file_extension": ".ts",
   "mimetype": "text/typescript",
   "name": "typescript",
   "version": "3.7.2"
  }
 },
 "nbformat": 4,
 "nbformat_minor": 5
}
